{
 "cells": [
  {
   "cell_type": "code",
   "execution_count": 112,
   "id": "f5b1bf02-d4b1-4ea8-8124-00d014932459",
   "metadata": {},
   "outputs": [],
   "source": [
    "import numpy as np\n",
    "import matplotlib.pyplot as plt\n",
    "import voters\n",
    "import elections\n",
    "\n",
    "import importlib"
   ]
  },
  {
   "cell_type": "code",
   "execution_count": 267,
   "id": "98bf966c-5758-496e-9aaa-5ff250c11578",
   "metadata": {},
   "outputs": [],
   "source": [
    "importlib.reload(voters)\n",
    "importlib.reload(elections)\n",
    "from voters import gen_voters, calc_distance_tensor, calc_distance_matrix\n",
    "from elections import Borda, IRV, Election"
   ]
  },
  {
   "cell_type": "code",
   "execution_count": 261,
   "id": "2b542f91-b186-46f8-89e4-9595b7b4a9cc",
   "metadata": {},
   "outputs": [],
   "source": [
    "V = gen_voters(10,3)\n",
    "C = gen_voters(3,3)"
   ]
  },
  {
   "cell_type": "code",
   "execution_count": 127,
   "id": "d1064798-5a5e-45dd-9f60-e005d211c0f3",
   "metadata": {},
   "outputs": [],
   "source": [
    "D = calc_distance_matrix(V,C)"
   ]
  },
  {
   "cell_type": "code",
   "execution_count": 176,
   "id": "dc351752-2281-4555-a45b-ec6e3ce72ec0",
   "metadata": {},
   "outputs": [],
   "source": [
    "P = np.array(D.argsort(axis=1),dtype=object)"
   ]
  },
  {
   "cell_type": "code",
   "execution_count": 152,
   "id": "29e03c22-a690-4054-a040-8b6dc0f65219",
   "metadata": {},
   "outputs": [
    {
     "data": {
      "text/plain": [
       "array([15, 7, 8], dtype=object)"
      ]
     },
     "execution_count": 152,
     "metadata": {},
     "output_type": "execute_result"
    }
   ],
   "source": [
    "P.sum(axis=0)"
   ]
  },
  {
   "cell_type": "code",
   "execution_count": 206,
   "id": "95448c83-f421-4e8f-b756-2addefd491f9",
   "metadata": {},
   "outputs": [],
   "source": [
    "A = ['Alice', 'Bob', 'Charlie']"
   ]
  },
  {
   "cell_type": "code",
   "execution_count": 256,
   "id": "f1398902-b14d-4372-9ec9-c6097958f840",
   "metadata": {},
   "outputs": [
    {
     "data": {
      "text/plain": [
       "array([ 8,  7, 15])"
      ]
     },
     "execution_count": 256,
     "metadata": {},
     "output_type": "execute_result"
    }
   ],
   "source": [
    "Borda(P, A).run()"
   ]
  },
  {
   "cell_type": "code",
   "execution_count": 257,
   "id": "4e0066f6-82a6-47a1-91f6-7fb8d0a527c5",
   "metadata": {},
   "outputs": [
    {
     "data": {
      "text/plain": [
       "'Charlie'"
      ]
     },
     "execution_count": 257,
     "metadata": {},
     "output_type": "execute_result"
    }
   ],
   "source": [
    "A[IRV(P,A).run()]"
   ]
  },
  {
   "cell_type": "code",
   "execution_count": 235,
   "id": "9bed178d-ffa8-42e9-97d2-052e1672b6a6",
   "metadata": {},
   "outputs": [
    {
     "data": {
      "text/plain": [
       "array([[2, 1, 0],\n",
       "       [2, 0, 1],\n",
       "       [0, 1, 2],\n",
       "       [1, 2, 0],\n",
       "       [2, 1, 0],\n",
       "       [0, 1, 2],\n",
       "       [2, 0, 1],\n",
       "       [2, 1, 0],\n",
       "       [2, 0, 1],\n",
       "       [2, 0, 1]], dtype=object)"
      ]
     },
     "execution_count": 235,
     "metadata": {},
     "output_type": "execute_result"
    }
   ],
   "source": [
    "np.zeros()"
   ]
  },
  {
   "cell_type": "code",
   "execution_count": 239,
   "id": "8fcaf876-32f1-4a94-88a6-0c5c1717fc0f",
   "metadata": {},
   "outputs": [
    {
     "data": {
      "text/plain": [
       "array([1, 2, 0], dtype=int64)"
      ]
     },
     "execution_count": 239,
     "metadata": {},
     "output_type": "execute_result"
    }
   ],
   "source": [
    "np.argsort([4,2,3])"
   ]
  },
  {
   "cell_type": "code",
   "execution_count": 243,
   "id": "705fd694-9c7a-4911-8b48-c06c391c7c5e",
   "metadata": {},
   "outputs": [
    {
     "data": {
      "text/plain": [
       "array([2, 1, 0])"
      ]
     },
     "execution_count": 243,
     "metadata": {},
     "output_type": "execute_result"
    }
   ],
   "source": [
    "np.arange(d-1,-1,-1)"
   ]
  },
  {
   "cell_type": "code",
   "execution_count": 251,
   "id": "73e57722-ba8d-4d89-8fb9-eebfc5c026f0",
   "metadata": {},
   "outputs": [],
   "source": [
    "R = np.unique([4,2,3], return_counts=True)"
   ]
  },
  {
   "cell_type": "code",
   "execution_count": 252,
   "id": "a97475cc-84ac-4036-beaf-f394eb636123",
   "metadata": {},
   "outputs": [
    {
     "data": {
      "text/plain": [
       "(array([2, 3, 4]), array([1, 1, 1], dtype=int64))"
      ]
     },
     "execution_count": 252,
     "metadata": {},
     "output_type": "execute_result"
    }
   ],
   "source": [
    "R"
   ]
  },
  {
   "cell_type": "code",
   "execution_count": 269,
   "id": "d4256ba2-a258-4875-8514-f3cc18af5569",
   "metadata": {},
   "outputs": [],
   "source": [
    "E = Election(V, C)\n",
    "E.preprocess()"
   ]
  },
  {
   "cell_type": "code",
   "execution_count": 272,
   "id": "b4aad490-58d5-4996-89a2-33605a28ff5f",
   "metadata": {},
   "outputs": [
    {
     "data": {
      "text/plain": [
       "2.136042357039994"
      ]
     },
     "execution_count": 272,
     "metadata": {},
     "output_type": "execute_result"
    }
   ],
   "source": [
    "E.dist_to_alt(2) "
   ]
  },
  {
   "cell_type": "code",
   "execution_count": null,
   "id": "b5a6cf5b-6ea5-4013-b15b-abfaf89c15cb",
   "metadata": {},
   "outputs": [],
   "source": []
  }
 ],
 "metadata": {
  "kernelspec": {
   "display_name": "Python 3",
   "language": "python",
   "name": "python3"
  },
  "language_info": {
   "codemirror_mode": {
    "name": "ipython",
    "version": 3
   },
   "file_extension": ".py",
   "mimetype": "text/x-python",
   "name": "python",
   "nbconvert_exporter": "python",
   "pygments_lexer": "ipython3",
   "version": "3.8.8"
  }
 },
 "nbformat": 4,
 "nbformat_minor": 5
}
