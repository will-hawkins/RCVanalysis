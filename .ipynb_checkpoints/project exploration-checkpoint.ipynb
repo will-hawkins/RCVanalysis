{
 "cells": [
  {
   "cell_type": "code",
   "execution_count": 29,
   "id": "f5b1bf02-d4b1-4ea8-8124-00d014932459",
   "metadata": {},
   "outputs": [],
   "source": [
    "import numpy as np\n",
    "import matplotlib.pyplot as plt\n",
    "import voters\n",
    "\n",
    "import importlib"
   ]
  },
  {
   "cell_type": "code",
   "execution_count": 30,
   "id": "98bf966c-5758-496e-9aaa-5ff250c11578",
   "metadata": {},
   "outputs": [],
   "source": [
    "importlib.reload(voters)\n",
    "\n",
    "from voters import *"
   ]
  },
  {
   "cell_type": "code",
   "execution_count": 31,
   "id": "2b542f91-b186-46f8-89e4-9595b7b4a9cc",
   "metadata": {},
   "outputs": [],
   "source": [
    "V = gen_voters(10,2)\n",
    "C = gen_voters(2,2)"
   ]
  },
  {
   "cell_type": "code",
   "execution_count": 32,
   "id": "d1064798-5a5e-45dd-9f60-e005d211c0f3",
   "metadata": {},
   "outputs": [
    {
     "data": {
      "text/plain": [
       "array([[[-0.83125218, -0.34823318],\n",
       "        [-0.62449197,  0.08674332],\n",
       "        [-0.338437  ,  0.21078641],\n",
       "        [-0.84732087,  0.57466592],\n",
       "        [-0.06043586, -0.3581601 ],\n",
       "        [-0.52944834, -0.28213099],\n",
       "        [-0.97654393,  0.61475213],\n",
       "        [-0.71373721,  0.35279811],\n",
       "        [-0.59970403,  0.54101015],\n",
       "        [-0.63211658,  0.0059834 ]],\n",
       "\n",
       "       [[-0.14178421, -0.76968155],\n",
       "        [ 0.064976  , -0.33470505],\n",
       "        [ 0.35103097, -0.21066196],\n",
       "        [-0.1578529 ,  0.15321755],\n",
       "        [ 0.62903211, -0.77960847],\n",
       "        [ 0.16001963, -0.70357936],\n",
       "        [-0.28707596,  0.19330376],\n",
       "        [-0.02426924, -0.06865026],\n",
       "        [ 0.08976394,  0.11956178],\n",
       "        [ 0.05735139, -0.41546497]]])"
      ]
     },
     "execution_count": 32,
     "metadata": {},
     "output_type": "execute_result"
    }
   ],
   "source": [
    "calc_distance_tensor(V,C)"
   ]
  },
  {
   "cell_type": "code",
   "execution_count": 18,
   "id": "dc351752-2281-4555-a45b-ec6e3ce72ec0",
   "metadata": {},
   "outputs": [
    {
     "data": {
      "text/plain": [
       "array([-0.13592402,  0.08835567])"
      ]
     },
     "execution_count": 18,
     "metadata": {},
     "output_type": "execute_result"
    }
   ],
   "source": [
    "V[2] - C[0]"
   ]
  },
  {
   "cell_type": "code",
   "execution_count": null,
   "id": "29e03c22-a690-4054-a040-8b6dc0f65219",
   "metadata": {},
   "outputs": [],
   "source": []
  }
 ],
 "metadata": {
  "kernelspec": {
   "display_name": "Python 3",
   "language": "python",
   "name": "python3"
  },
  "language_info": {
   "codemirror_mode": {
    "name": "ipython",
    "version": 3
   },
   "file_extension": ".py",
   "mimetype": "text/x-python",
   "name": "python",
   "nbconvert_exporter": "python",
   "pygments_lexer": "ipython3",
   "version": "3.8.8"
  }
 },
 "nbformat": 4,
 "nbformat_minor": 5
}
